{
  "metadata": {
    "kernelspec": {
      "name": "python",
      "display_name": "Python (Pyodide)",
      "language": "python"
    },
    "language_info": {
      "codemirror_mode": {
        "name": "python",
        "version": 3
      },
      "file_extension": ".py",
      "mimetype": "text/x-python",
      "name": "python",
      "nbconvert_exporter": "python",
      "pygments_lexer": "ipython3",
      "version": "3.8"
    }
  },
  "nbformat_minor": 5,
  "nbformat": 4,
  "cells": [
    {
      "id": "205ff6d8",
      "cell_type": "markdown",
      "source": "### I. Classification des Champignons avec Pyspark et MLlib",
      "metadata": {}
    },
    {
      "id": "154aa841",
      "cell_type": "code",
      "source": "from pyspark import SparkContext\nfrom pyspark.sql import SparkSession\nfrom pyspark.sql import SparkSession, Row\nfrom pyspark.ml.feature import VectorAssembler, StringIndexer, OneHotEncoder\nfrom pyspark.ml import Pipeline\nfrom pyspark.ml.classification import RandomForestClassifier",
      "metadata": {},
      "outputs": [],
      "execution_count": 108
    },
    {
      "id": "a76ffe17",
      "cell_type": "markdown",
      "source": "#### Initialisation de SparkContext et SparkSession",
      "metadata": {}
    },
    {
      "id": "43f329af",
      "cell_type": "code",
      "source": "sc = SparkContext()\n\nspark = SparkSession.builder.appName(\"MushroomClassification\").getOrCreate()",
      "metadata": {},
      "outputs": [],
      "execution_count": 110
    },
    {
      "id": "5105852e",
      "cell_type": "markdown",
      "source": "### Schema du DataFrame",
      "metadata": {}
    },
    {
      "id": "d0f4be95",
      "cell_type": "code",
      "source": "data_mushrooms = spark.read.format('csv').\\\noption('inferSchema','true').\\\noption('header', 'true').\\\noption('path', 'mushrooms.csv').\\\nload()",
      "metadata": {},
      "outputs": [],
      "execution_count": 111
    },
    {
      "id": "874c61c7",
      "cell_type": "code",
      "source": "data_mushrooms.printSchema()",
      "metadata": {},
      "outputs": [
        {
          "name": "stdout",
          "output_type": "stream",
          "text": [
            "root\n",
            " |-- class: string (nullable = true)\n",
            " |-- cap-shape: string (nullable = true)\n",
            " |-- cap-surface: string (nullable = true)\n",
            " |-- cap-color: string (nullable = true)\n",
            " |-- bruises: string (nullable = true)\n",
            " |-- odor: string (nullable = true)\n",
            " |-- gill-attachment: string (nullable = true)\n",
            " |-- gill-spacing: string (nullable = true)\n",
            " |-- gill-size: string (nullable = true)\n",
            " |-- gill-color: string (nullable = true)\n",
            " |-- stalk-shape: string (nullable = true)\n",
            " |-- stalk-root: string (nullable = true)\n",
            " |-- stalk-surface-above-ring: string (nullable = true)\n",
            " |-- stalk-surface-below-ring: string (nullable = true)\n",
            " |-- stalk-color-above-ring: string (nullable = true)\n",
            " |-- stalk-color-below-ring: string (nullable = true)\n",
            " |-- veil-type: string (nullable = true)\n",
            " |-- veil-color: string (nullable = true)\n",
            " |-- ring-number: string (nullable = true)\n",
            " |-- ring-type: string (nullable = true)\n",
            " |-- spore-print-color: string (nullable = true)\n",
            " |-- population: string (nullable = true)\n",
            " |-- habitat: string (nullable = true)\n",
            "\n"
          ]
        }
      ],
      "execution_count": 75
    },
    {
      "id": "a49a8351",
      "cell_type": "code",
      "source": "type(data_mushrooms)",
      "metadata": {},
      "outputs": [
        {
          "data": {
            "text/plain": [
              "pyspark.sql.dataframe.DataFrame"
            ]
          },
          "execution_count": 94,
          "metadata": {},
          "output_type": "execute_result"
        }
      ],
      "execution_count": 94
    },
    {
      "id": "afd97e71",
      "cell_type": "markdown",
      "source": "### Preprocessing des features ",
      "metadata": {}
    },
    {
      "id": "bf80b50e",
      "cell_type": "code",
      "source": "in_cols = data_mushrooms.schema.names[1:]\n\nstr_indexers = [StringIndexer(inputCol=c, outputCol=c+'_idx') for c in in_cols]\n# a list of StringIndexer objects to convert strings to integer indices\n# each indexer is responsible for converting one feature column\n\nonehot_encoders = [OneHotEncoder(dropLast=False, inputCol=c+'_idx', outputCol=c+'_onehot') for c in in_cols]\n# a list of OneHotEncoder objects to convert integer indices of cat levels to one-hot encoded columns\n# each encoder is responsible fore encoding one feature column\n\nonehot_cols = [c+'_onehot' for c in in_cols]\n\nfeat_assembler = VectorAssembler(inputCols=onehot_cols, outputCol='features')\n# a VectorAssembler object that assembles all the one-hot encoded columns into one column,\n# each row of which is a vector of all the numbers in those one-hot columns.\n# e.g.\n# +-----+-----+-----+-----+---------------------+\n# |cat_0|cat_1|cat_2|cat_3|             features|\n# +-----+-----+-----+-----+---------------------+\n# |    1|    0|    0|    0| [1.0, 0.0, 0.0, 0.0]|\n# |    0|    1|    0|    0| [0.0, 1.0, 0.0, 0.0]|\n# |    0|    0|    0|    1| [0.0, 0.0, 0.0, 1.0]|\n# +-----+-----+-----+-----+---------------------+\n\nlabel_indexer = StringIndexer(inputCol = data_mushrooms.schema.names[0], outputCol='poisonous')\n# a StringIndexer object that converts <class> column's {e, p} to {0, 1}\n# Because there are more 'e' class in the sample, it will be encoded 0, since StringIndexer gives more frequent levels a lower index\n# Run `mushrooms.groupby('class').count().show()` in pyspark shell to see counts of each class\n\npipeline = Pipeline(stages=str_indexers+onehot_encoders+[feat_assembler, label_indexer])\n# A Pipeline object that combines all the transformations we defined above.\n\n# Use the pipeline object to transform our dataframe\ndata_mushrooms_trans = pipeline \\\n                    .fit(data_mushrooms) \\\n                    .transform(data_mushrooms) \\\n                    .cache()",
      "metadata": {},
      "outputs": [],
      "execution_count": 112
    },
    {
      "id": "3422b269",
      "cell_type": "code",
      "source": " data_mushrooms.groupby('class').count().show()",
      "metadata": {},
      "outputs": [
        {
          "name": "stdout",
          "output_type": "stream",
          "text": [
            "+-----+-----+\n",
            "|class|count|\n",
            "+-----+-----+\n",
            "|    e| 4208|\n",
            "|    p| 3916|\n",
            "+-----+-----+\n",
            "\n"
          ]
        }
      ],
      "execution_count": 113
    },
    {
      "id": "89d621db",
      "cell_type": "markdown",
      "source": "### Split du dataset en train et test",
      "metadata": {}
    },
    {
      "id": "c88eb881",
      "cell_type": "code",
      "source": "mushrooms_train, mushrooms_val = data_mushrooms_trans.randomSplit([0.7, 0.3], seed=2017)",
      "metadata": {},
      "outputs": [],
      "execution_count": 114
    },
    {
      "id": "5f002d8a",
      "cell_type": "markdown",
      "source": "### Train model with Random forest",
      "metadata": {}
    },
    {
      "id": "ce4a534b",
      "cell_type": "code",
      "source": "model = RandomForestClassifier(labelCol='poisonous', featuresCol='features', numTrees=200) \\\n        .fit(mushrooms_train)",
      "metadata": {},
      "outputs": [],
      "execution_count": 116
    },
    {
      "id": "7b23b38f",
      "cell_type": "markdown",
      "source": "### Predict and evaluate a model ",
      "metadata": {}
    },
    {
      "id": "752c7b7f",
      "cell_type": "code",
      "source": "pred = model.transform(mushrooms_val)\n\nresults = pred.select(['probability', 'prediction', 'poisonous'])\n\nresults_collect = results.collect()\n# After .collect(), `results_collect` become a list of Row objects\n\ncorrect = results.withColumn('correct', (results.prediction==results.poisonous).cast('integer')).select('correct')\n\naccuracy = correct.agg({'correct':'mean'}).collect()[0][0]\n\nprint('Test accuracy:', accuracy)",
      "metadata": {},
      "outputs": [
        {
          "name": "stdout",
          "output_type": "stream",
          "text": [
            "Test accuracy: 0.988529291274068\n"
          ]
        }
      ],
      "execution_count": 117
    },
    {
      "id": "ff152766",
      "cell_type": "markdown",
      "source": "###### Some intermediate results",
      "metadata": {}
    },
    {
      "id": "19b63557",
      "cell_type": "code",
      "source": "results.show(5)",
      "metadata": {},
      "outputs": [
        {
          "name": "stdout",
          "output_type": "stream",
          "text": [
            "+--------------------+----------+---------+\n",
            "|         probability|prediction|poisonous|\n",
            "+--------------------+----------+---------+\n",
            "|[0.95982912711196...|       0.0|      0.0|\n",
            "|[0.96550770066792...|       0.0|      0.0|\n",
            "|[0.96195439264680...|       0.0|      0.0|\n",
            "|[0.94786380659111...|       0.0|      0.0|\n",
            "|[0.95354238014707...|       0.0|      0.0|\n",
            "+--------------------+----------+---------+\n",
            "only showing top 5 rows\n",
            "\n"
          ]
        }
      ],
      "execution_count": 118
    },
    {
      "id": "756f5666",
      "cell_type": "code",
      "source": "correct.show(5)",
      "metadata": {},
      "outputs": [
        {
          "name": "stdout",
          "output_type": "stream",
          "text": [
            "+-------+\n",
            "|correct|\n",
            "+-------+\n",
            "|      1|\n",
            "|      1|\n",
            "|      1|\n",
            "|      1|\n",
            "|      1|\n",
            "+-------+\n",
            "only showing top 5 rows\n",
            "\n"
          ]
        }
      ],
      "execution_count": 121
    },
    {
      "id": "d773d146",
      "cell_type": "code",
      "source": "accuracy",
      "metadata": {},
      "outputs": [
        {
          "data": {
            "text/plain": [
              "0.988529291274068"
            ]
          },
          "execution_count": 122,
          "metadata": {},
          "output_type": "execute_result"
        }
      ],
      "execution_count": 122
    }
  ]
}