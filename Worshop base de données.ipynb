{
 "cells": [
  {
   "cell_type": "code",
   "execution_count": 5,
   "id": "57eec557",
   "metadata": {},
   "outputs": [
    {
     "name": "stdout",
     "output_type": "stream",
     "text": [
      "{}\n"
     ]
    }
   ],
   "source": [
    "client1 = {}\n",
    "print(client1)"
   ]
  },
  {
   "cell_type": "code",
   "execution_count": 6,
   "id": "84094c62",
   "metadata": {},
   "outputs": [
    {
     "name": "stdout",
     "output_type": "stream",
     "text": [
      "Entrer Nom pour client1: AGU\n",
      "Entrer Prénom pour client1: PATRICK\n",
      "Entrer Sexe pour client1: M\n",
      "Entrer Solde pour client1: 3000\n",
      "{'Nom': 'AGU', 'Prénom': 'PATRICK', 'Sexe': 'M', 'Solde': '3000'}\n"
     ]
    }
   ],
   "source": [
    "#Step 2: Récup les 4 données client 1 avec boucle qu'on rentrera directement en console puis inprimer données.\n",
    "\n",
    "client1 = {}\n",
    "\n",
    "#liste des clés pour données client\n",
    "clés = [\"Nom\",\"Prénom\",\"Sexe\",\"Solde\"]\n",
    "\n",
    "#Boucle pour entrer données directement dans console pour chaque clés\n",
    "for c in clés:\n",
    "        client1[c] = input(f\"Entrer {c} pour client1: \")\n",
    "        \n",
    "        \n",
    "print(client1)"
   ]
  },
  {
   "cell_type": "code",
   "execution_count": 8,
   "id": "08a94bc2",
   "metadata": {},
   "outputs": [
    {
     "data": {
      "text/plain": [
       "[{'Nom': 'AGU', 'Prénom': 'PATRICK', 'Sexe': 'M', 'Solde': '3000'},\n",
       " {},\n",
       " {},\n",
       " {},\n",
       " {},\n",
       " {},\n",
       " {},\n",
       " {},\n",
       " {},\n",
       " {},\n",
       " {},\n",
       " {},\n",
       " {}]"
      ]
     },
     "execution_count": 8,
     "metadata": {},
     "output_type": "execute_result"
    }
   ],
   "source": [
    "client2 = {}\n",
    "client3 = {}\n",
    "client4 = {}\n",
    "client5 = {}\n",
    "client6 = {}\n",
    "client7 = {} \n",
    "client8 = {}\n",
    "client9 = {} \n",
    "client10 = {}\n",
    "client11 = {}\n",
    "client12 = {}\n",
    "client13 = {}\n",
    "clients = [client1,client2,client3,client4,client5,client6,client7,client8,client9,client10,client11,client12,client13]\n",
    "\n",
    "clients"
   ]
  },
  {
   "cell_type": "code",
   "execution_count": 2,
   "id": "17e0eda6",
   "metadata": {},
   "outputs": [
    {
     "name": "stdout",
     "output_type": "stream",
     "text": [
      "Client 1\n",
      "Entrez Nom pour client 1: AGU\n",
      "Entrez Prénom pour client 1: PAT\n",
      "Entrez Sexe pour client 1: M\n",
      "Entrez Solde pour client 1: 3000\n",
      "Client 2\n",
      "Entrez Nom pour client 2: JANAS\n",
      "Entrez Prénom pour client 2: BART\n",
      "Entrez Sexe pour client 2: M\n",
      "Entrez Solde pour client 2: 2000\n",
      "Client 3\n",
      "Entrez Nom pour client 3: BAYAR\n",
      "Entrez Prénom pour client 3: MUN\n",
      "Entrez Sexe pour client 3: M\n",
      "Entrez Solde pour client 3: 1500\n",
      "Client 4\n",
      "Entrez Nom pour client 4: BONNIN\n",
      "Entrez Prénom pour client 4: PHILIPPE\n",
      "Entrez Sexe pour client 4: M\n",
      "Entrez Solde pour client 4: 4500\n",
      "Client 5\n",
      "Entrez Nom pour client 5: CARREY \n",
      "Entrez Prénom pour client 5: RAPHAEL\n",
      "Entrez Sexe pour client 5: M\n",
      "Entrez Solde pour client 5: 5000\n",
      "Client 6\n",
      "Entrez Nom pour client 6: CHELED\n",
      "Entrez Prénom pour client 6: ALEXANDRE\n",
      "Entrez Sexe pour client 6: M\n",
      "Entrez Solde pour client 6: 3500\n",
      "Client 7\n",
      "Entrez Nom pour client 7: CHIKRI \n",
      "Entrez Prénom pour client 7: HASSAN\n",
      "Entrez Sexe pour client 7: M\n",
      "Entrez Solde pour client 7: 2500\n",
      "Client 8\n",
      "Entrez Nom pour client 8: DESSOLIN\n",
      "Entrez Prénom pour client 8: THIBAUT\n",
      "Entrez Sexe pour client 8: M\n",
      "Entrez Solde pour client 8: 4000\n",
      "Client 9\n",
      "Entrez Nom pour client 9: LAKHDAR\n",
      "Entrez Prénom pour client 9: HADJER\n",
      "Entrez Sexe pour client 9: F\n",
      "Entrez Solde pour client 9: 1000\n",
      "Client 10\n",
      "Entrez Nom pour client 10: MEUNIER \n",
      "Entrez Prénom pour client 10: ALEXIS\n",
      "Entrez Sexe pour client 10: M\n",
      "Entrez Solde pour client 10: 3000\n",
      "Client 11\n",
      "Entrez Nom pour client 11: MOHAMED\n",
      "Entrez Prénom pour client 11: AHMED\n",
      "Entrez Sexe pour client 11: M\n",
      "Entrez Solde pour client 11: 2500\n",
      "Client 12\n",
      "Entrez Nom pour client 12: SADOUN\n",
      "Entrez Prénom pour client 12: SALAH\n",
      "Entrez Sexe pour client 12: M\n",
      "Entrez Solde pour client 12: 6000\n",
      "Client 13\n",
      "Entrez Nom pour client 13: THEUREU\n",
      "Entrez Prénom pour client 13: PAUL\n",
      "Entrez Sexe pour client 13: M\n",
      "Entrez Solde pour client 13: 4500\n",
      "Données du client 1: {'Nom': 'AGU', 'Prénom': 'PAT', 'Sexe': 'M', 'Solde': '3000'}\n",
      "Données du client 2: {'Nom': 'JANAS', 'Prénom': 'BART', 'Sexe': 'M', 'Solde': '2000'}\n",
      "Données du client 3: {'Nom': 'BAYAR', 'Prénom': 'MUN', 'Sexe': 'M', 'Solde': '1500'}\n",
      "Données du client 4: {'Nom': 'BONNIN', 'Prénom': 'PHILIPPE', 'Sexe': 'M', 'Solde': '4500'}\n",
      "Données du client 5: {'Nom': 'CARREY ', 'Prénom': 'RAPHAEL', 'Sexe': 'M', 'Solde': '5000'}\n",
      "Données du client 6: {'Nom': 'CHELED', 'Prénom': 'ALEXANDRE', 'Sexe': 'M', 'Solde': '3500'}\n",
      "Données du client 7: {'Nom': 'CHIKRI ', 'Prénom': 'HASSAN', 'Sexe': 'M', 'Solde': '2500'}\n",
      "Données du client 8: {'Nom': 'DESSOLIN', 'Prénom': 'THIBAUT', 'Sexe': 'M', 'Solde': '4000'}\n",
      "Données du client 9: {'Nom': 'LAKHDAR', 'Prénom': 'HADJER', 'Sexe': 'F', 'Solde': '1000'}\n",
      "Données du client 10: {'Nom': 'MEUNIER ', 'Prénom': 'ALEXIS', 'Sexe': 'M', 'Solde': '3000'}\n",
      "Données du client 11: {'Nom': 'MOHAMED', 'Prénom': 'AHMED', 'Sexe': 'M', 'Solde': '2500'}\n",
      "Données du client 12: {'Nom': 'SADOUN', 'Prénom': 'SALAH', 'Sexe': 'M', 'Solde': '6000'}\n",
      "Données du client 13: {'Nom': 'THEUREU', 'Prénom': 'PAUL', 'Sexe': 'M', 'Solde': '4500'}\n"
     ]
    }
   ],
   "source": [
    "clés = [\"Nom\", \"Prénom\", \"Sexe\", \"Solde\"]\n",
    "\n",
    "# Step 3: Création d'une liste total de 13 dictionnaires clients\n",
    "clients = [{} for x in range(13)]\n",
    "\n",
    "# Step 4: Récupération des données pour tous les clients\n",
    "for i, client in enumerate(clients):\n",
    "    print(f\"Client {i+1}\")\n",
    "    for c in clés:\n",
    "        client[c] = input(f\"Entrez {c} pour client {i+1}: \")\n",
    "\n",
    "# Affichage des données de tous les clients\n",
    "for i, client in enumerate(clients):\n",
    "    print(f\"Données du client {i+1}:\", client)\n"
   ]
  },
  {
   "cell_type": "code",
   "execution_count": 28,
   "id": "c5053d46",
   "metadata": {},
   "outputs": [
    {
     "ename": "NameError",
     "evalue": "name 'client4' is not defined",
     "output_type": "error",
     "traceback": [
      "\u001b[1;31m---------------------------------------------------------------------------\u001b[0m",
      "\u001b[1;31mNameError\u001b[0m                                 Traceback (most recent call last)",
      "Cell \u001b[1;32mIn[28], line 2\u001b[0m\n\u001b[0;32m      1\u001b[0m \u001b[38;5;66;03m#step 5 \u001b[39;00m\n\u001b[1;32m----> 2\u001b[0m client4[\u001b[38;5;124m\"\u001b[39m\u001b[38;5;124mSolde\u001b[39m\u001b[38;5;124m\"\u001b[39m]\u001b[38;5;241m=\u001b[39m client4[\u001b[38;5;124m\"\u001b[39m\u001b[38;5;124mSolde\u001b[39m\u001b[38;5;124m\"\u001b[39m] \u001b[38;5;241m-\u001b[39m \u001b[38;5;241m500\u001b[39m\n\u001b[0;32m      3\u001b[0m \u001b[38;5;28mprint\u001b[39m(client4[\u001b[38;5;124m\"\u001b[39m\u001b[38;5;124mSolde\u001b[39m\u001b[38;5;124m\"\u001b[39m])\n",
      "\u001b[1;31mNameError\u001b[0m: name 'client4' is not defined"
     ]
    }
   ],
   "source": [
    "#step 5 \n",
    "client4[\"Solde\"]= client4[\"Solde\"] - 500\n",
    "print(client4[\"Solde\"])"
   ]
  },
  {
   "cell_type": "code",
   "execution_count": 12,
   "id": "f2b79c0e",
   "metadata": {},
   "outputs": [
    {
     "ename": "TypeError",
     "evalue": "unsupported operand type(s) for +: 'int' and 'str'",
     "output_type": "error",
     "traceback": [
      "\u001b[1;31m---------------------------------------------------------------------------\u001b[0m",
      "\u001b[1;31mTypeError\u001b[0m                                 Traceback (most recent call last)",
      "Cell \u001b[1;32mIn[12], line 4\u001b[0m\n\u001b[0;32m      2\u001b[0m soldetotal \u001b[38;5;241m=\u001b[39m \u001b[38;5;241m0\u001b[39m \n\u001b[0;32m      3\u001b[0m \u001b[38;5;28;01mfor\u001b[39;00m client \u001b[38;5;129;01min\u001b[39;00m clients :\n\u001b[1;32m----> 4\u001b[0m     soldetotal \u001b[38;5;241m=\u001b[39m \u001b[38;5;28mint\u001b[39m(soldetotal \u001b[38;5;241m+\u001b[39m client[\u001b[38;5;124m\"\u001b[39m\u001b[38;5;124mSolde\u001b[39m\u001b[38;5;124m\"\u001b[39m])\n\u001b[0;32m      6\u001b[0m \u001b[38;5;28mprint\u001b[39m(soldetotal)\n",
      "\u001b[1;31mTypeError\u001b[0m: unsupported operand type(s) for +: 'int' and 'str'"
     ]
    }
   ],
   "source": [
    "#Step 6 \n",
    "soldetotal = 0 \n",
    "for client in clients :\n",
    "    soldetotal = int(soldetotal + client[\"Solde\"])\n",
    "    \n",
    "print(soldetotal)"
   ]
  },
  {
   "cell_type": "code",
   "execution_count": 26,
   "id": "cadd3e3d",
   "metadata": {},
   "outputs": [],
   "source": [
    "Homme = 0\n",
    "Femme = 0\n",
    "for clés in client : \n",
    "    if client[\"Sexe\"] == \"M\" :\n",
    "        Homme += 1\n",
    "    else :\n",
    "        Femme += 1"
   ]
  },
  {
   "cell_type": "code",
   "execution_count": 15,
   "id": "d571c072",
   "metadata": {},
   "outputs": [],
   "source": [
    "#Step 8 Ajout de KURDY Bassam avec un solde de 2000 euros\n",
    "client14 = {\"Nom\": \"KURDY\", \"Prénom\": \"Bassam\", \"Sexe\": \"M\", \"Solde\": 2000}\n",
    "clients = clients + [client14]"
   ]
  }
 ],
 "metadata": {
  "kernelspec": {
   "display_name": "Python 3 (ipykernel)",
   "language": "python",
   "name": "python3"
  },
  "language_info": {
   "codemirror_mode": {
    "name": "ipython",
    "version": 3
   },
   "file_extension": ".py",
   "mimetype": "text/x-python",
   "name": "python",
   "nbconvert_exporter": "python",
   "pygments_lexer": "ipython3",
   "version": "3.11.5"
  }
 },
 "nbformat": 4,
 "nbformat_minor": 5
}
