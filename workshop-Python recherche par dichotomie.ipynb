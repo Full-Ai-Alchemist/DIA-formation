{
 "cells": [
  {
   "cell_type": "code",
   "execution_count": 2,
   "id": "8d6956a6",
   "metadata": {},
   "outputs": [
    {
     "name": "stdout",
     "output_type": "stream",
     "text": [
      "Bienvenue dans le jeu de la dichotomie!\n"
     ]
    },
    {
     "data": {
      "text/plain": [
       "int"
      ]
     },
     "execution_count": 2,
     "metadata": {},
     "output_type": "execute_result"
    }
   ],
   "source": [
    "#Step 1\n",
    "def main():\n",
    "    print(\"Bienvenue dans le jeu de la dichotomie!\")\n",
    "    return int\n",
    "\n",
    "main()"
   ]
  },
  {
   "cell_type": "code",
   "execution_count": 3,
   "id": "89fbc4ed",
   "metadata": {},
   "outputs": [
    {
     "name": "stdout",
     "output_type": "stream",
     "text": [
      "Bienvenue dans le jeu de la dichotomie!\n",
      "Quel est votre prénom?Alex\n"
     ]
    },
    {
     "data": {
      "text/plain": [
       "int"
      ]
     },
     "execution_count": 3,
     "metadata": {},
     "output_type": "execute_result"
    }
   ],
   "source": [
    "#Step 2\n",
    "def main():\n",
    "    print(\"Bienvenue dans le jeu de la dichotomie!\")\n",
    "\n",
    "#Récupérer le nom du joueur userName\n",
    "    userName= input(\"Quel est votre prénom?\")\n",
    "    return int\n",
    "\n",
    "main()"
   ]
  },
  {
   "cell_type": "code",
   "execution_count": 4,
   "id": "3b5daf27",
   "metadata": {},
   "outputs": [
    {
     "name": "stdout",
     "output_type": "stream",
     "text": [
      "Bienvenue dans le jeu de la dichotomie!\n",
      "Quel est votre prénom?Alex\n",
      "Pensez à un nombre entre 0 et 100.\n"
     ]
    },
    {
     "data": {
      "text/plain": [
       "int"
      ]
     },
     "execution_count": 4,
     "metadata": {},
     "output_type": "execute_result"
    }
   ],
   "source": [
    "#Step 3\n",
    "def main():\n",
    "    print(\"Bienvenue dans le jeu de la dichotomie!\")\n",
    "\n",
    "#Récupérer le nom du joueur userName\n",
    "    userName= input(\"Quel est votre prénom?\")\n",
    "    \n",
    "#Donner les instructions du jeu en mettant en variable le nombre minimum (minVal) et maximum (maxVal)\n",
    "    minVal= 0\n",
    "    maxVal= 100\n",
    "    print(f\"Pensez à un nombre entre {minVal} et {maxVal}.\")\n",
    "    return int\n",
    "\n",
    "main()"
   ]
  },
  {
   "cell_type": "code",
   "execution_count": 5,
   "id": "38c0fc58",
   "metadata": {},
   "outputs": [
    {
     "name": "stdout",
     "output_type": "stream",
     "text": [
      "Bienvenue dans le jeu de la dichotomie!\n",
      "Quel est ton prénom?Alex\n",
      "Pense à un nombre entre 0 et 100.\n",
      "est ce que votre nombre est plus grand,petit ou égale à 50? répondre : +,- ou =\n",
      "-\n",
      "est ce que votre nombre est plus grand,petit ou égale à 24? répondre : +,- ou =\n",
      "+\n",
      "est ce que votre nombre est plus grand,petit ou égale à 37? répondre : +,- ou =\n",
      "+\n",
      "est ce que votre nombre est plus grand,petit ou égale à 43? répondre : +,- ou =\n",
      "-\n",
      "est ce que votre nombre est plus grand,petit ou égale à 40? répondre : +,- ou =\n",
      "-\n",
      "est ce que votre nombre est plus grand,petit ou égale à 38? répondre : +,- ou =\n",
      "+\n",
      "est ce que votre nombre est plus grand,petit ou égale à 39? répondre : +,- ou =\n",
      "=\n",
      "j'ai trouvé en 7 fois ! \n"
     ]
    },
    {
     "data": {
      "text/plain": [
       "int"
      ]
     },
     "execution_count": 5,
     "metadata": {},
     "output_type": "execute_result"
    }
   ],
   "source": [
    "#Step 4\n",
    "\n",
    "def main():\n",
    "    print(\"Bienvenue dans le jeu de la dichotomie!\")\n",
    "\n",
    "#Récupérer le nom du joueur userName\n",
    "    userName= input(\"Quel est ton prénom?\")\n",
    "    \n",
    "#Donner les instructions du jeu en mettant en variable le nombre minimum (minVal) et maximum (maxVal)\n",
    "    minVal= 0\n",
    "    maxVal= 100\n",
    "    print(f\"Pense à un nombre entre {minVal} et {maxVal}.\")\n",
    "\n",
    "#Compteur de tentatives\n",
    "    tentatives = 0\n",
    "    \n",
    "#Création structure itérative avec conditions pour deviner le nmbr par dichotomie\n",
    "    while True:\n",
    "        tentatives += 1\n",
    "        pensée= ((minVal+maxVal)//2)\n",
    "        print(f\"est ce que votre nombre est plus grand,petit ou égale à {pensée}? répondre : +,- ou =\") \n",
    "        reponse = input()\n",
    "        \n",
    "        if reponse== \"=\":\n",
    "            print(f\"j'ai trouvé en {tentatives} fois ! \")\n",
    "            break\n",
    "        \n",
    "        elif reponse == \"+\":\n",
    "            minVal= pensée + 1\n",
    "    \n",
    "        elif reponse == \"-\":\n",
    "            maxVal= pensée - 1\n",
    "            \n",
    "    return int\n",
    "\n",
    "main()"
   ]
  },
  {
   "cell_type": "code",
   "execution_count": 10,
   "id": "5105367d",
   "metadata": {},
   "outputs": [
    {
     "name": "stdout",
     "output_type": "stream",
     "text": [
      "Bienvenue dans le jeu de la dichotomie!\n",
      "Quel est ton prénom?Alex\n",
      "Pense à un nombre entre 0 et 100.\n",
      "est ce que votre nombre est plus grand,petit ou égale à 50? répondre : +,- ou =\n",
      "+\n",
      "est ce que votre nombre est plus grand,petit ou égale à 75? répondre : +,- ou =\n",
      "+\n",
      "est ce que votre nombre est plus grand,petit ou égale à 88? répondre : +,- ou =\n",
      "+\n",
      "est ce que votre nombre est plus grand,petit ou égale à 94? répondre : +,- ou =\n",
      "+\n",
      "est ce que votre nombre est plus grand,petit ou égale à 97? répondre : +,- ou =\n",
      "+\n",
      "est ce que votre nombre est plus grand,petit ou égale à 99? répondre : +,- ou =\n",
      "+\n",
      "est ce que votre nombre est plus grand,petit ou égale à 100? répondre : +,- ou =\n",
      "=\n",
      "Ton nombre est le 100 . Je l'ai trouvé en 7 fois ! \n",
      "Merci d'avoir joué avec moi Alex\n"
     ]
    },
    {
     "data": {
      "text/plain": [
       "int"
      ]
     },
     "execution_count": 10,
     "metadata": {},
     "output_type": "execute_result"
    }
   ],
   "source": [
    "#Step 5\n",
    "\n",
    "def main():\n",
    "    print(\"Bienvenue dans le jeu de la dichotomie!\")\n",
    "\n",
    "#Récupérer le nom du joueur userName\n",
    "    userName= input(\"Quel est ton prénom?\")\n",
    "    \n",
    "#Donner les instructions du jeu en mettant en variable le nombre minimum (minVal) et maximum (maxVal)\n",
    "    minVal= 0\n",
    "    maxVal= 100\n",
    "    print(f\"Pense à un nombre entre {minVal} et {maxVal}.\")\n",
    "\n",
    "#Compteur de tentatives\n",
    "    tentatives = 0\n",
    "    \n",
    "#Création structure itérative avec conditions pour deviner le nmbr par dichotomie       \n",
    "    while True:\n",
    "        tentatives += 1\n",
    "        pensée= int((minVal+maxVal)/2)      \n",
    "        print(f\"est ce que votre nombre est plus grand,petit ou égale à {pensée}? répondre : +,- ou =\") \n",
    "        reponse = input()         \n",
    "\n",
    "        if reponse == \"+\":\n",
    "            minVal= pensée + 1\n",
    "    \n",
    "        elif reponse == \"-\":\n",
    "            maxVal= pensée - 1\n",
    "\n",
    "       \n",
    "        elif reponse == \"=\":\n",
    "#afficher compte rendu avec nbr deviné, le nmbr tentatives et message de sortie            \n",
    "            print(f\"Ton nombre est le {pensée} . Je l'ai trouvé en {tentatives} fois ! \")\n",
    "            print(f\"Merci d'avoir joué avec moi {userName}\")\n",
    "            return int\n",
    "\n",
    "main()"
   ]
  },
  {
   "cell_type": "code",
   "execution_count": null,
   "id": "77c49f67",
   "metadata": {},
   "outputs": [],
   "source": []
  }
 ],
 "metadata": {
  "kernelspec": {
   "display_name": "Python 3 (ipykernel)",
   "language": "python",
   "name": "python3"
  },
  "language_info": {
   "codemirror_mode": {
    "name": "ipython",
    "version": 3
   },
   "file_extension": ".py",
   "mimetype": "text/x-python",
   "name": "python",
   "nbconvert_exporter": "python",
   "pygments_lexer": "ipython3",
   "version": "3.11.5"
  }
 },
 "nbformat": 4,
 "nbformat_minor": 5
}
